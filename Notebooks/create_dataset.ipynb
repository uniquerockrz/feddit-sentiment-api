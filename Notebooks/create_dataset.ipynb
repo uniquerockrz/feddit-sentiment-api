{
 "cells": [
  {
   "cell_type": "markdown",
   "metadata": {},
   "source": [
    "### This creates the data which we will be using for the API, and stores the data in a CSV file"
   ]
  },
  {
   "cell_type": "code",
   "execution_count": 29,
   "metadata": {},
   "outputs": [],
   "source": [
    "import os\n",
    "import sys\n",
    "import pandas as pd\n",
    "from vaderSentiment.vaderSentiment import SentimentIntensityAnalyzer"
   ]
  },
  {
   "cell_type": "code",
   "execution_count": 3,
   "metadata": {},
   "outputs": [],
   "source": [
    "## To import the lib module\n",
    "module_path = os.path.abspath(os.path.join('..'))\n",
    "if module_path not in sys.path:\n",
    "    sys.path.append(module_path)"
   ]
  },
  {
   "cell_type": "code",
   "execution_count": 4,
   "metadata": {},
   "outputs": [],
   "source": [
    "from lib.api import get_subfeddits, get_subfeddit_info, get_comments"
   ]
  },
  {
   "cell_type": "code",
   "execution_count": 9,
   "metadata": {},
   "outputs": [],
   "source": [
    "# we first get all the subfeddit IDs\n",
    "subfeddit_ids = []\n",
    "\n",
    "for subfeddit in get_subfeddits()['subfeddits']:\n",
    "    subfeddit_ids.append(subfeddit['id'])"
   ]
  },
  {
   "cell_type": "code",
   "execution_count": 10,
   "metadata": {},
   "outputs": [
    {
     "data": {
      "text/plain": [
       "[1, 2, 3]"
      ]
     },
     "execution_count": 10,
     "metadata": {},
     "output_type": "execute_result"
    }
   ],
   "source": [
    "subfeddit_ids"
   ]
  },
  {
   "cell_type": "code",
   "execution_count": 26,
   "metadata": {},
   "outputs": [],
   "source": [
    "# now we have to get the comments and store that into a dataframe\n",
    "def get_all_comments_subfeddit(subfeddit_id):\n",
    "    start_index = 0\n",
    "    page_size = 1000\n",
    "    has_comments = True\n",
    "\n",
    "    comments_list = []\n",
    "\n",
    "    while(has_comments):\n",
    "        comments = get_comments(subfeddit_id=subfeddit_id, skip=start_index, limit=page_size)\n",
    "\n",
    "        if len(comments['comments']) > 0:\n",
    "            comments_list = comments_list + comments['comments']\n",
    "            print(f'Loaded {len(comments_list)} comments in subfeddit id {subfeddit_id}')\n",
    "            start_index = start_index + page_size\n",
    "        else:\n",
    "            has_comments = False\n",
    "            break\n",
    "    \n",
    "    return comments_list"
   ]
  },
  {
   "cell_type": "code",
   "execution_count": 27,
   "metadata": {},
   "outputs": [
    {
     "name": "stdout",
     "output_type": "stream",
     "text": [
      "Loaded 1000 comments in subfeddit id 1\n",
      "Loaded 2000 comments in subfeddit id 1\n",
      "Loaded 3000 comments in subfeddit id 1\n",
      "Loaded 4000 comments in subfeddit id 1\n",
      "Loaded 5000 comments in subfeddit id 1\n",
      "Loaded 6000 comments in subfeddit id 1\n",
      "Loaded 7000 comments in subfeddit id 1\n",
      "Loaded 8000 comments in subfeddit id 1\n",
      "Loaded 9000 comments in subfeddit id 1\n",
      "Loaded 10000 comments in subfeddit id 1\n",
      "Loaded 11000 comments in subfeddit id 1\n",
      "Loaded 12000 comments in subfeddit id 1\n",
      "Loaded 13000 comments in subfeddit id 1\n",
      "Loaded 14000 comments in subfeddit id 1\n",
      "Loaded 15000 comments in subfeddit id 1\n",
      "Loaded 16000 comments in subfeddit id 1\n",
      "Loaded 17000 comments in subfeddit id 1\n",
      "Loaded 18000 comments in subfeddit id 1\n",
      "Loaded 19000 comments in subfeddit id 1\n",
      "Loaded 20000 comments in subfeddit id 1\n",
      "Loaded 21000 comments in subfeddit id 1\n",
      "Loaded 22000 comments in subfeddit id 1\n",
      "Loaded 23000 comments in subfeddit id 1\n",
      "Loaded 24000 comments in subfeddit id 1\n",
      "Loaded 25000 comments in subfeddit id 1\n",
      "Loaded 26000 comments in subfeddit id 1\n",
      "Loaded 27000 comments in subfeddit id 1\n",
      "Loaded 28000 comments in subfeddit id 1\n",
      "Loaded 29000 comments in subfeddit id 1\n",
      "Loaded 30000 comments in subfeddit id 1\n",
      "Loaded 31000 comments in subfeddit id 1\n",
      "Loaded 32000 comments in subfeddit id 1\n",
      "Loaded 33000 comments in subfeddit id 1\n",
      "Loaded 33730 comments in subfeddit id 1\n"
     ]
    }
   ],
   "source": [
    "comments_list = get_all_comments_subfeddit(1)"
   ]
  },
  {
   "cell_type": "code",
   "execution_count": 28,
   "metadata": {},
   "outputs": [
    {
     "data": {
      "text/plain": [
       "33730"
      ]
     },
     "execution_count": 28,
     "metadata": {},
     "output_type": "execute_result"
    }
   ],
   "source": [
    "len(comments_list)"
   ]
  },
  {
   "cell_type": "code",
   "execution_count": 36,
   "metadata": {},
   "outputs": [],
   "source": [
    "def get_comment_sentiment(comment_text):\n",
    "    analyzer = SentimentIntensityAnalyzer()\n",
    "    scores = analyzer.polarity_scores(comment_text)\n",
    "    sentiment_class = ''\n",
    "    if scores['compound'] >= 0.05:\n",
    "        sentiment_class = 'positive'\n",
    "    elif scores['compound'] > -0.05 and scores['compound'] < 0.05:\n",
    "        sentiment_class = 'neutral'\n",
    "    else:\n",
    "        sentiment_class = 'negative'\n",
    "    \n",
    "    return (sentiment_class, scores['compound'])"
   ]
  },
  {
   "cell_type": "markdown",
   "metadata": {},
   "source": [
    "Lets now find out the sentiment using Vader"
   ]
  },
  {
   "cell_type": "code",
   "execution_count": 37,
   "metadata": {},
   "outputs": [],
   "source": [
    "df = pd.DataFrame(comments_list)"
   ]
  },
  {
   "cell_type": "code",
   "execution_count": 38,
   "metadata": {},
   "outputs": [
    {
     "data": {
      "text/html": [
       "<div>\n",
       "<style scoped>\n",
       "    .dataframe tbody tr th:only-of-type {\n",
       "        vertical-align: middle;\n",
       "    }\n",
       "\n",
       "    .dataframe tbody tr th {\n",
       "        vertical-align: top;\n",
       "    }\n",
       "\n",
       "    .dataframe thead th {\n",
       "        text-align: right;\n",
       "    }\n",
       "</style>\n",
       "<table border=\"1\" class=\"dataframe\">\n",
       "  <thead>\n",
       "    <tr style=\"text-align: right;\">\n",
       "      <th></th>\n",
       "      <th>id</th>\n",
       "      <th>username</th>\n",
       "      <th>text</th>\n",
       "      <th>created_at</th>\n",
       "    </tr>\n",
       "  </thead>\n",
       "  <tbody>\n",
       "    <tr>\n",
       "      <th>0</th>\n",
       "      <td>1</td>\n",
       "      <td>user_0</td>\n",
       "      <td>It looks great!</td>\n",
       "      <td>1711449247</td>\n",
       "    </tr>\n",
       "    <tr>\n",
       "      <th>1</th>\n",
       "      <td>2</td>\n",
       "      <td>user_1</td>\n",
       "      <td>Love it.</td>\n",
       "      <td>1711445647</td>\n",
       "    </tr>\n",
       "    <tr>\n",
       "      <th>2</th>\n",
       "      <td>3</td>\n",
       "      <td>user_2</td>\n",
       "      <td>Awesome.</td>\n",
       "      <td>1711442047</td>\n",
       "    </tr>\n",
       "    <tr>\n",
       "      <th>3</th>\n",
       "      <td>4</td>\n",
       "      <td>user_3</td>\n",
       "      <td>Well done!</td>\n",
       "      <td>1711438447</td>\n",
       "    </tr>\n",
       "    <tr>\n",
       "      <th>4</th>\n",
       "      <td>5</td>\n",
       "      <td>user_4</td>\n",
       "      <td>Looks decent.</td>\n",
       "      <td>1711434847</td>\n",
       "    </tr>\n",
       "    <tr>\n",
       "      <th>5</th>\n",
       "      <td>6</td>\n",
       "      <td>user_5</td>\n",
       "      <td>What you did was right.</td>\n",
       "      <td>1711431247</td>\n",
       "    </tr>\n",
       "    <tr>\n",
       "      <th>6</th>\n",
       "      <td>7</td>\n",
       "      <td>user_6</td>\n",
       "      <td>Thumbs up.</td>\n",
       "      <td>1711427647</td>\n",
       "    </tr>\n",
       "    <tr>\n",
       "      <th>7</th>\n",
       "      <td>8</td>\n",
       "      <td>user_7</td>\n",
       "      <td>Like it a lot!</td>\n",
       "      <td>1711424047</td>\n",
       "    </tr>\n",
       "    <tr>\n",
       "      <th>8</th>\n",
       "      <td>9</td>\n",
       "      <td>user_8</td>\n",
       "      <td>Good work.</td>\n",
       "      <td>1711420447</td>\n",
       "    </tr>\n",
       "    <tr>\n",
       "      <th>9</th>\n",
       "      <td>10</td>\n",
       "      <td>user_9</td>\n",
       "      <td>Luckily you did it.</td>\n",
       "      <td>1711416847</td>\n",
       "    </tr>\n",
       "  </tbody>\n",
       "</table>\n",
       "</div>"
      ],
      "text/plain": [
       "   id username                     text  created_at\n",
       "0   1   user_0          It looks great!  1711449247\n",
       "1   2   user_1                 Love it.  1711445647\n",
       "2   3   user_2                 Awesome.  1711442047\n",
       "3   4   user_3               Well done!  1711438447\n",
       "4   5   user_4            Looks decent.  1711434847\n",
       "5   6   user_5  What you did was right.  1711431247\n",
       "6   7   user_6               Thumbs up.  1711427647\n",
       "7   8   user_7           Like it a lot!  1711424047\n",
       "8   9   user_8               Good work.  1711420447\n",
       "9  10   user_9      Luckily you did it.  1711416847"
      ]
     },
     "execution_count": 38,
     "metadata": {},
     "output_type": "execute_result"
    }
   ],
   "source": [
    "df.head(10)"
   ]
  },
  {
   "cell_type": "code",
   "execution_count": 41,
   "metadata": {},
   "outputs": [],
   "source": [
    "df[['sentiment_class', 'sentiment_score']] = df['text'].apply(get_comment_sentiment).apply(pd.Series)"
   ]
  },
  {
   "cell_type": "code",
   "execution_count": 42,
   "metadata": {},
   "outputs": [
    {
     "data": {
      "text/html": [
       "<div>\n",
       "<style scoped>\n",
       "    .dataframe tbody tr th:only-of-type {\n",
       "        vertical-align: middle;\n",
       "    }\n",
       "\n",
       "    .dataframe tbody tr th {\n",
       "        vertical-align: top;\n",
       "    }\n",
       "\n",
       "    .dataframe thead th {\n",
       "        text-align: right;\n",
       "    }\n",
       "</style>\n",
       "<table border=\"1\" class=\"dataframe\">\n",
       "  <thead>\n",
       "    <tr style=\"text-align: right;\">\n",
       "      <th></th>\n",
       "      <th>id</th>\n",
       "      <th>username</th>\n",
       "      <th>text</th>\n",
       "      <th>created_at</th>\n",
       "      <th>sentiment_class</th>\n",
       "      <th>sentiment_score</th>\n",
       "    </tr>\n",
       "  </thead>\n",
       "  <tbody>\n",
       "    <tr>\n",
       "      <th>0</th>\n",
       "      <td>1</td>\n",
       "      <td>user_0</td>\n",
       "      <td>It looks great!</td>\n",
       "      <td>1711449247</td>\n",
       "      <td>positive</td>\n",
       "      <td>0.6588</td>\n",
       "    </tr>\n",
       "    <tr>\n",
       "      <th>1</th>\n",
       "      <td>2</td>\n",
       "      <td>user_1</td>\n",
       "      <td>Love it.</td>\n",
       "      <td>1711445647</td>\n",
       "      <td>positive</td>\n",
       "      <td>0.6369</td>\n",
       "    </tr>\n",
       "    <tr>\n",
       "      <th>2</th>\n",
       "      <td>3</td>\n",
       "      <td>user_2</td>\n",
       "      <td>Awesome.</td>\n",
       "      <td>1711442047</td>\n",
       "      <td>positive</td>\n",
       "      <td>0.6249</td>\n",
       "    </tr>\n",
       "    <tr>\n",
       "      <th>3</th>\n",
       "      <td>4</td>\n",
       "      <td>user_3</td>\n",
       "      <td>Well done!</td>\n",
       "      <td>1711438447</td>\n",
       "      <td>positive</td>\n",
       "      <td>0.3382</td>\n",
       "    </tr>\n",
       "    <tr>\n",
       "      <th>4</th>\n",
       "      <td>5</td>\n",
       "      <td>user_4</td>\n",
       "      <td>Looks decent.</td>\n",
       "      <td>1711434847</td>\n",
       "      <td>neutral</td>\n",
       "      <td>0.0000</td>\n",
       "    </tr>\n",
       "    <tr>\n",
       "      <th>5</th>\n",
       "      <td>6</td>\n",
       "      <td>user_5</td>\n",
       "      <td>What you did was right.</td>\n",
       "      <td>1711431247</td>\n",
       "      <td>neutral</td>\n",
       "      <td>0.0000</td>\n",
       "    </tr>\n",
       "    <tr>\n",
       "      <th>6</th>\n",
       "      <td>7</td>\n",
       "      <td>user_6</td>\n",
       "      <td>Thumbs up.</td>\n",
       "      <td>1711427647</td>\n",
       "      <td>neutral</td>\n",
       "      <td>0.0000</td>\n",
       "    </tr>\n",
       "    <tr>\n",
       "      <th>7</th>\n",
       "      <td>8</td>\n",
       "      <td>user_7</td>\n",
       "      <td>Like it a lot!</td>\n",
       "      <td>1711424047</td>\n",
       "      <td>positive</td>\n",
       "      <td>0.4199</td>\n",
       "    </tr>\n",
       "    <tr>\n",
       "      <th>8</th>\n",
       "      <td>9</td>\n",
       "      <td>user_8</td>\n",
       "      <td>Good work.</td>\n",
       "      <td>1711420447</td>\n",
       "      <td>positive</td>\n",
       "      <td>0.4404</td>\n",
       "    </tr>\n",
       "    <tr>\n",
       "      <th>9</th>\n",
       "      <td>10</td>\n",
       "      <td>user_9</td>\n",
       "      <td>Luckily you did it.</td>\n",
       "      <td>1711416847</td>\n",
       "      <td>positive</td>\n",
       "      <td>0.5106</td>\n",
       "    </tr>\n",
       "  </tbody>\n",
       "</table>\n",
       "</div>"
      ],
      "text/plain": [
       "   id username                     text  created_at sentiment_class  \\\n",
       "0   1   user_0          It looks great!  1711449247        positive   \n",
       "1   2   user_1                 Love it.  1711445647        positive   \n",
       "2   3   user_2                 Awesome.  1711442047        positive   \n",
       "3   4   user_3               Well done!  1711438447        positive   \n",
       "4   5   user_4            Looks decent.  1711434847         neutral   \n",
       "5   6   user_5  What you did was right.  1711431247         neutral   \n",
       "6   7   user_6               Thumbs up.  1711427647         neutral   \n",
       "7   8   user_7           Like it a lot!  1711424047        positive   \n",
       "8   9   user_8               Good work.  1711420447        positive   \n",
       "9  10   user_9      Luckily you did it.  1711416847        positive   \n",
       "\n",
       "   sentiment_score  \n",
       "0           0.6588  \n",
       "1           0.6369  \n",
       "2           0.6249  \n",
       "3           0.3382  \n",
       "4           0.0000  \n",
       "5           0.0000  \n",
       "6           0.0000  \n",
       "7           0.4199  \n",
       "8           0.4404  \n",
       "9           0.5106  "
      ]
     },
     "execution_count": 42,
     "metadata": {},
     "output_type": "execute_result"
    }
   ],
   "source": [
    "df.head(10)"
   ]
  }
 ],
 "metadata": {
  "kernelspec": {
   "display_name": ".venv",
   "language": "python",
   "name": "python3"
  },
  "language_info": {
   "codemirror_mode": {
    "name": "ipython",
    "version": 3
   },
   "file_extension": ".py",
   "mimetype": "text/x-python",
   "name": "python",
   "nbconvert_exporter": "python",
   "pygments_lexer": "ipython3",
   "version": "3.12.2"
  }
 },
 "nbformat": 4,
 "nbformat_minor": 2
}
