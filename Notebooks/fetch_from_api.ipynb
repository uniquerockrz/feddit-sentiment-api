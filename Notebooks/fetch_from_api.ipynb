{
 "cells": [
  {
   "cell_type": "markdown",
   "metadata": {},
   "source": [
    "### This notebook contains functions to fetch the content from the Feddit API"
   ]
  },
  {
   "cell_type": "code",
   "execution_count": 1,
   "metadata": {},
   "outputs": [],
   "source": [
    "import os\n",
    "import sys\n",
    "import json"
   ]
  },
  {
   "cell_type": "code",
   "execution_count": 2,
   "metadata": {},
   "outputs": [],
   "source": [
    "## To import the lib module\n",
    "module_path = os.path.abspath(os.path.join('..'))\n",
    "if module_path not in sys.path:\n",
    "    sys.path.append(module_path)"
   ]
  },
  {
   "cell_type": "code",
   "execution_count": 3,
   "metadata": {},
   "outputs": [],
   "source": [
    "from lib.api import get_subfeddits, get_subfeddit_info, get_comments"
   ]
  },
  {
   "cell_type": "markdown",
   "metadata": {},
   "source": [
    "Get All Subfeddist"
   ]
  },
  {
   "cell_type": "code",
   "execution_count": 4,
   "metadata": {},
   "outputs": [
    {
     "data": {
      "text/plain": [
       "{'limit': 10,\n",
       " 'skip': 0,\n",
       " 'subfeddits': [{'id': 1,\n",
       "   'username': 'admin_1',\n",
       "   'title': 'Dummy Topic 1',\n",
       "   'description': 'Dummy Topic 1'},\n",
       "  {'id': 2,\n",
       "   'username': 'admin_2',\n",
       "   'title': 'Dummy Topic 2',\n",
       "   'description': 'Dummy Topic 2'},\n",
       "  {'id': 3,\n",
       "   'username': 'admin_3',\n",
       "   'title': 'Dummy Topic 3',\n",
       "   'description': 'Dummy Topic 3'}]}"
      ]
     },
     "execution_count": 4,
     "metadata": {},
     "output_type": "execute_result"
    }
   ],
   "source": [
    "get_subfeddits()"
   ]
  },
  {
   "cell_type": "markdown",
   "metadata": {},
   "source": [
    "Get A Single Subfeddit Info"
   ]
  },
  {
   "cell_type": "code",
   "execution_count": 9,
   "metadata": {},
   "outputs": [
    {
     "data": {
      "text/plain": [
       "{'id': 1,\n",
       " 'username': 'admin_1',\n",
       " 'title': 'Dummy Topic 1',\n",
       " 'description': 'Dummy Topic 1',\n",
       " 'limit': 10,\n",
       " 'skip': 0,\n",
       " 'comments': [{'id': 1,\n",
       "   'username': 'user_0',\n",
       "   'text': 'It looks great!',\n",
       "   'created_at': 1711449247},\n",
       "  {'id': 2,\n",
       "   'username': 'user_1',\n",
       "   'text': 'Love it.',\n",
       "   'created_at': 1711445647},\n",
       "  {'id': 3,\n",
       "   'username': 'user_2',\n",
       "   'text': 'Awesome.',\n",
       "   'created_at': 1711442047},\n",
       "  {'id': 4,\n",
       "   'username': 'user_3',\n",
       "   'text': 'Well done!',\n",
       "   'created_at': 1711438447},\n",
       "  {'id': 5,\n",
       "   'username': 'user_4',\n",
       "   'text': 'Looks decent.',\n",
       "   'created_at': 1711434847},\n",
       "  {'id': 6,\n",
       "   'username': 'user_5',\n",
       "   'text': 'What you did was right.',\n",
       "   'created_at': 1711431247},\n",
       "  {'id': 7,\n",
       "   'username': 'user_6',\n",
       "   'text': 'Thumbs up.',\n",
       "   'created_at': 1711427647},\n",
       "  {'id': 8,\n",
       "   'username': 'user_7',\n",
       "   'text': 'Like it a lot!',\n",
       "   'created_at': 1711424047},\n",
       "  {'id': 9,\n",
       "   'username': 'user_8',\n",
       "   'text': 'Good work.',\n",
       "   'created_at': 1711420447},\n",
       "  {'id': 10,\n",
       "   'username': 'user_9',\n",
       "   'text': 'Luckily you did it.',\n",
       "   'created_at': 1711416847}]}"
      ]
     },
     "execution_count": 9,
     "metadata": {},
     "output_type": "execute_result"
    }
   ],
   "source": [
    "get_subfeddit_info(1)"
   ]
  },
  {
   "cell_type": "markdown",
   "metadata": {},
   "source": [
    "Get Comments From A Subfeddit"
   ]
  },
  {
   "cell_type": "code",
   "execution_count": 6,
   "metadata": {},
   "outputs": [
    {
     "data": {
      "text/plain": [
       "'{\"subfeddit_id\": 1, \"limit\": 20, \"skip\": 0, \"comments\": [{\"id\": 1, \"username\": \"user_0\", \"text\": \"It looks great!\", \"created_at\": 1711449247}, {\"id\": 2, \"username\": \"user_1\", \"text\": \"Love it.\", \"created_at\": 1711445647}, {\"id\": 3, \"username\": \"user_2\", \"text\": \"Awesome.\", \"created_at\": 1711442047}, {\"id\": 4, \"username\": \"user_3\", \"text\": \"Well done!\", \"created_at\": 1711438447}, {\"id\": 5, \"username\": \"user_4\", \"text\": \"Looks decent.\", \"created_at\": 1711434847}, {\"id\": 6, \"username\": \"user_5\", \"text\": \"What you did was right.\", \"created_at\": 1711431247}, {\"id\": 7, \"username\": \"user_6\", \"text\": \"Thumbs up.\", \"created_at\": 1711427647}, {\"id\": 8, \"username\": \"user_7\", \"text\": \"Like it a lot!\", \"created_at\": 1711424047}, {\"id\": 9, \"username\": \"user_8\", \"text\": \"Good work.\", \"created_at\": 1711420447}, {\"id\": 10, \"username\": \"user_9\", \"text\": \"Luckily you did it.\", \"created_at\": 1711416847}, {\"id\": 11, \"username\": \"user_10\", \"text\": \"Proud of you.\", \"created_at\": 1711413247}, {\"id\": 12, \"username\": \"user_11\", \"text\": \"Enjoy!\", \"created_at\": 1711409647}, {\"id\": 13, \"username\": \"user_12\", \"text\": \"It looks great! It looks great!\", \"created_at\": 1711406047}, {\"id\": 14, \"username\": \"user_13\", \"text\": \"It looks great! Love it.\", \"created_at\": 1711402447}, {\"id\": 15, \"username\": \"user_14\", \"text\": \"It looks great! Awesome.\", \"created_at\": 1711398847}, {\"id\": 16, \"username\": \"user_15\", \"text\": \"It looks great! Well done!\", \"created_at\": 1711395247}, {\"id\": 17, \"username\": \"user_16\", \"text\": \"It looks great! Looks decent.\", \"created_at\": 1711391647}, {\"id\": 18, \"username\": \"user_17\", \"text\": \"It looks great! What you did was right.\", \"created_at\": 1711388047}, {\"id\": 19, \"username\": \"user_18\", \"text\": \"It looks great! Thumbs up.\", \"created_at\": 1711384447}, {\"id\": 20, \"username\": \"user_19\", \"text\": \"It looks great! Like it a lot!\", \"created_at\": 1711380847}]}'"
      ]
     },
     "execution_count": 6,
     "metadata": {},
     "output_type": "execute_result"
    }
   ],
   "source": [
    "json.dumps(get_comments(1, 0, 20))"
   ]
  },
  {
   "cell_type": "code",
   "execution_count": null,
   "metadata": {},
   "outputs": [],
   "source": []
  }
 ],
 "metadata": {
  "kernelspec": {
   "display_name": ".venv",
   "language": "python",
   "name": "python3"
  },
  "language_info": {
   "codemirror_mode": {
    "name": "ipython",
    "version": 3
   },
   "file_extension": ".py",
   "mimetype": "text/x-python",
   "name": "python",
   "nbconvert_exporter": "python",
   "pygments_lexer": "ipython3",
   "version": "3.12.2"
  }
 },
 "nbformat": 4,
 "nbformat_minor": 2
}
