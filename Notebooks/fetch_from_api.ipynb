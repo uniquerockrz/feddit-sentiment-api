{
 "cells": [
  {
   "cell_type": "markdown",
   "metadata": {},
   "source": [
    "### This notebook contains functions to fetch the content from the Feddit API"
   ]
  },
  {
   "cell_type": "code",
   "execution_count": 6,
   "metadata": {},
   "outputs": [],
   "source": [
    "import os\n",
    "import sys\n",
    "import json"
   ]
  },
  {
   "cell_type": "code",
   "execution_count": 2,
   "metadata": {},
   "outputs": [],
   "source": [
    "## To import the lib module\n",
    "module_path = os.path.abspath(os.path.join('..'))\n",
    "if module_path not in sys.path:\n",
    "    sys.path.append(module_path)"
   ]
  },
  {
   "cell_type": "code",
   "execution_count": 3,
   "metadata": {},
   "outputs": [],
   "source": [
    "from lib.api import get_subfeddits, get_subfeddit_info"
   ]
  },
  {
   "cell_type": "markdown",
   "metadata": {},
   "source": [
    "Get All Subfeddist"
   ]
  },
  {
   "cell_type": "code",
   "execution_count": 4,
   "metadata": {},
   "outputs": [
    {
     "data": {
      "text/plain": [
       "{'limit': 10,\n",
       " 'skip': 0,\n",
       " 'subfeddits': [{'id': 1,\n",
       "   'username': 'admin_1',\n",
       "   'title': 'Dummy Topic 1',\n",
       "   'description': 'Dummy Topic 1'},\n",
       "  {'id': 2,\n",
       "   'username': 'admin_2',\n",
       "   'title': 'Dummy Topic 2',\n",
       "   'description': 'Dummy Topic 2'},\n",
       "  {'id': 3,\n",
       "   'username': 'admin_3',\n",
       "   'title': 'Dummy Topic 3',\n",
       "   'description': 'Dummy Topic 3'}]}"
      ]
     },
     "execution_count": 4,
     "metadata": {},
     "output_type": "execute_result"
    }
   ],
   "source": [
    "get_subfeddits()"
   ]
  },
  {
   "cell_type": "markdown",
   "metadata": {},
   "source": [
    "Get A Single Subfeddit Info"
   ]
  },
  {
   "cell_type": "code",
   "execution_count": 8,
   "metadata": {},
   "outputs": [
    {
     "data": {
      "text/plain": [
       "'{\"id\": 1, \"username\": \"admin_1\", \"title\": \"Dummy Topic 1\", \"description\": \"Dummy Topic 1\", \"limit\": 10, \"skip\": 0, \"comments\": [{\"id\": 1, \"username\": \"user_0\", \"text\": \"It looks great!\", \"created_at\": 1711449247}, {\"id\": 2, \"username\": \"user_1\", \"text\": \"Love it.\", \"created_at\": 1711445647}, {\"id\": 3, \"username\": \"user_2\", \"text\": \"Awesome.\", \"created_at\": 1711442047}, {\"id\": 4, \"username\": \"user_3\", \"text\": \"Well done!\", \"created_at\": 1711438447}, {\"id\": 5, \"username\": \"user_4\", \"text\": \"Looks decent.\", \"created_at\": 1711434847}, {\"id\": 6, \"username\": \"user_5\", \"text\": \"What you did was right.\", \"created_at\": 1711431247}, {\"id\": 7, \"username\": \"user_6\", \"text\": \"Thumbs up.\", \"created_at\": 1711427647}, {\"id\": 8, \"username\": \"user_7\", \"text\": \"Like it a lot!\", \"created_at\": 1711424047}, {\"id\": 9, \"username\": \"user_8\", \"text\": \"Good work.\", \"created_at\": 1711420447}, {\"id\": 10, \"username\": \"user_9\", \"text\": \"Luckily you did it.\", \"created_at\": 1711416847}]}'"
      ]
     },
     "execution_count": 8,
     "metadata": {},
     "output_type": "execute_result"
    }
   ],
   "source": [
    "json.dumps(get_subfeddit_info(1))"
   ]
  },
  {
   "cell_type": "code",
   "execution_count": null,
   "metadata": {},
   "outputs": [],
   "source": []
  }
 ],
 "metadata": {
  "kernelspec": {
   "display_name": ".venv",
   "language": "python",
   "name": "python3"
  },
  "language_info": {
   "codemirror_mode": {
    "name": "ipython",
    "version": 3
   },
   "file_extension": ".py",
   "mimetype": "text/x-python",
   "name": "python",
   "nbconvert_exporter": "python",
   "pygments_lexer": "ipython3",
   "version": "3.12.2"
  }
 },
 "nbformat": 4,
 "nbformat_minor": 2
}
